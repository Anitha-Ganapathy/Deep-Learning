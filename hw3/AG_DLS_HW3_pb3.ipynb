{
  "nbformat": 4,
  "nbformat_minor": 0,
  "metadata": {
    "colab": {
      "name": "AG_DLS_HW3_pb3.ipynb",
      "provenance": [],
      "collapsed_sections": [
        "lSW1e8VEfgrq",
        "HPOoim-FfJMD"
      ],
      "machine_shape": "hm"
    },
    "kernelspec": {
      "name": "python3",
      "display_name": "Python 3"
    },
    "language_info": {
      "name": "python"
    },
    "accelerator": "GPU"
  },
  "cells": [
    {
      "cell_type": "markdown",
      "metadata": {
        "id": "eFP1kKk6lfdV"
      },
      "source": [
        "**<h1><center>Deep Learning Systems (ENGR-E 533) \n",
        "<br>Homework 3 , Fall 2021</h1>**\n",
        "\n",
        "**Name: Anitha Ganapathy** <br>\n",
        "**Email: aganapa@iu.edu** <br>\n",
        "\n",
        "\n",
        "___"
      ]
    },
    {
      "cell_type": "markdown",
      "metadata": {
        "id": "-_h4dKXsi8cB"
      },
      "source": [
        "## Problem 3: Speech Denoising Using RNN"
      ]
    },
    {
      "cell_type": "markdown",
      "metadata": {
        "id": "S2QKEt9KvUxz"
      },
      "source": [
        "### Organizing Imports\n"
      ]
    },
    {
      "cell_type": "code",
      "metadata": {
        "colab": {
          "base_uri": "https://localhost:8080/"
        },
        "id": "nxIuMbQIMIrq",
        "outputId": "4714f5be-558a-47c1-b863-7354559caf83"
      },
      "source": [
        "!pip install tensorflow_addons"
      ],
      "execution_count": null,
      "outputs": [
        {
          "output_type": "stream",
          "name": "stdout",
          "text": [
            "Collecting tensorflow_addons\n",
            "  Downloading tensorflow_addons-0.14.0-cp37-cp37m-manylinux_2_12_x86_64.manylinux2010_x86_64.whl (1.1 MB)\n",
            "\u001b[?25l\r\u001b[K     |▎                               | 10 kB 25.1 MB/s eta 0:00:01\r\u001b[K     |▋                               | 20 kB 10.3 MB/s eta 0:00:01\r\u001b[K     |▉                               | 30 kB 8.6 MB/s eta 0:00:01\r\u001b[K     |█▏                              | 40 kB 7.7 MB/s eta 0:00:01\r\u001b[K     |█▌                              | 51 kB 5.1 MB/s eta 0:00:01\r\u001b[K     |█▊                              | 61 kB 5.3 MB/s eta 0:00:01\r\u001b[K     |██                              | 71 kB 5.5 MB/s eta 0:00:01\r\u001b[K     |██▍                             | 81 kB 6.2 MB/s eta 0:00:01\r\u001b[K     |██▋                             | 92 kB 5.9 MB/s eta 0:00:01\r\u001b[K     |███                             | 102 kB 5.3 MB/s eta 0:00:01\r\u001b[K     |███▎                            | 112 kB 5.3 MB/s eta 0:00:01\r\u001b[K     |███▌                            | 122 kB 5.3 MB/s eta 0:00:01\r\u001b[K     |███▉                            | 133 kB 5.3 MB/s eta 0:00:01\r\u001b[K     |████▏                           | 143 kB 5.3 MB/s eta 0:00:01\r\u001b[K     |████▍                           | 153 kB 5.3 MB/s eta 0:00:01\r\u001b[K     |████▊                           | 163 kB 5.3 MB/s eta 0:00:01\r\u001b[K     |█████                           | 174 kB 5.3 MB/s eta 0:00:01\r\u001b[K     |█████▎                          | 184 kB 5.3 MB/s eta 0:00:01\r\u001b[K     |█████▋                          | 194 kB 5.3 MB/s eta 0:00:01\r\u001b[K     |██████                          | 204 kB 5.3 MB/s eta 0:00:01\r\u001b[K     |██████▏                         | 215 kB 5.3 MB/s eta 0:00:01\r\u001b[K     |██████▌                         | 225 kB 5.3 MB/s eta 0:00:01\r\u001b[K     |██████▉                         | 235 kB 5.3 MB/s eta 0:00:01\r\u001b[K     |███████                         | 245 kB 5.3 MB/s eta 0:00:01\r\u001b[K     |███████▍                        | 256 kB 5.3 MB/s eta 0:00:01\r\u001b[K     |███████▊                        | 266 kB 5.3 MB/s eta 0:00:01\r\u001b[K     |████████                        | 276 kB 5.3 MB/s eta 0:00:01\r\u001b[K     |████████▎                       | 286 kB 5.3 MB/s eta 0:00:01\r\u001b[K     |████████▋                       | 296 kB 5.3 MB/s eta 0:00:01\r\u001b[K     |████████▉                       | 307 kB 5.3 MB/s eta 0:00:01\r\u001b[K     |█████████▏                      | 317 kB 5.3 MB/s eta 0:00:01\r\u001b[K     |█████████▌                      | 327 kB 5.3 MB/s eta 0:00:01\r\u001b[K     |█████████▊                      | 337 kB 5.3 MB/s eta 0:00:01\r\u001b[K     |██████████                      | 348 kB 5.3 MB/s eta 0:00:01\r\u001b[K     |██████████▍                     | 358 kB 5.3 MB/s eta 0:00:01\r\u001b[K     |██████████▋                     | 368 kB 5.3 MB/s eta 0:00:01\r\u001b[K     |███████████                     | 378 kB 5.3 MB/s eta 0:00:01\r\u001b[K     |███████████▎                    | 389 kB 5.3 MB/s eta 0:00:01\r\u001b[K     |███████████▌                    | 399 kB 5.3 MB/s eta 0:00:01\r\u001b[K     |███████████▉                    | 409 kB 5.3 MB/s eta 0:00:01\r\u001b[K     |████████████▏                   | 419 kB 5.3 MB/s eta 0:00:01\r\u001b[K     |████████████▍                   | 430 kB 5.3 MB/s eta 0:00:01\r\u001b[K     |████████████▊                   | 440 kB 5.3 MB/s eta 0:00:01\r\u001b[K     |█████████████                   | 450 kB 5.3 MB/s eta 0:00:01\r\u001b[K     |█████████████▎                  | 460 kB 5.3 MB/s eta 0:00:01\r\u001b[K     |█████████████▋                  | 471 kB 5.3 MB/s eta 0:00:01\r\u001b[K     |██████████████                  | 481 kB 5.3 MB/s eta 0:00:01\r\u001b[K     |██████████████▏                 | 491 kB 5.3 MB/s eta 0:00:01\r\u001b[K     |██████████████▌                 | 501 kB 5.3 MB/s eta 0:00:01\r\u001b[K     |██████████████▉                 | 512 kB 5.3 MB/s eta 0:00:01\r\u001b[K     |███████████████                 | 522 kB 5.3 MB/s eta 0:00:01\r\u001b[K     |███████████████▍                | 532 kB 5.3 MB/s eta 0:00:01\r\u001b[K     |███████████████▊                | 542 kB 5.3 MB/s eta 0:00:01\r\u001b[K     |████████████████                | 552 kB 5.3 MB/s eta 0:00:01\r\u001b[K     |████████████████▎               | 563 kB 5.3 MB/s eta 0:00:01\r\u001b[K     |████████████████▋               | 573 kB 5.3 MB/s eta 0:00:01\r\u001b[K     |████████████████▉               | 583 kB 5.3 MB/s eta 0:00:01\r\u001b[K     |█████████████████▏              | 593 kB 5.3 MB/s eta 0:00:01\r\u001b[K     |█████████████████▌              | 604 kB 5.3 MB/s eta 0:00:01\r\u001b[K     |█████████████████▊              | 614 kB 5.3 MB/s eta 0:00:01\r\u001b[K     |██████████████████              | 624 kB 5.3 MB/s eta 0:00:01\r\u001b[K     |██████████████████▍             | 634 kB 5.3 MB/s eta 0:00:01\r\u001b[K     |██████████████████▋             | 645 kB 5.3 MB/s eta 0:00:01\r\u001b[K     |███████████████████             | 655 kB 5.3 MB/s eta 0:00:01\r\u001b[K     |███████████████████▎            | 665 kB 5.3 MB/s eta 0:00:01\r\u001b[K     |███████████████████▌            | 675 kB 5.3 MB/s eta 0:00:01\r\u001b[K     |███████████████████▉            | 686 kB 5.3 MB/s eta 0:00:01\r\u001b[K     |████████████████████▏           | 696 kB 5.3 MB/s eta 0:00:01\r\u001b[K     |████████████████████▍           | 706 kB 5.3 MB/s eta 0:00:01\r\u001b[K     |████████████████████▊           | 716 kB 5.3 MB/s eta 0:00:01\r\u001b[K     |█████████████████████           | 727 kB 5.3 MB/s eta 0:00:01\r\u001b[K     |█████████████████████▎          | 737 kB 5.3 MB/s eta 0:00:01\r\u001b[K     |█████████████████████▋          | 747 kB 5.3 MB/s eta 0:00:01\r\u001b[K     |██████████████████████          | 757 kB 5.3 MB/s eta 0:00:01\r\u001b[K     |██████████████████████▏         | 768 kB 5.3 MB/s eta 0:00:01\r\u001b[K     |██████████████████████▌         | 778 kB 5.3 MB/s eta 0:00:01\r\u001b[K     |██████████████████████▉         | 788 kB 5.3 MB/s eta 0:00:01\r\u001b[K     |███████████████████████         | 798 kB 5.3 MB/s eta 0:00:01\r\u001b[K     |███████████████████████▍        | 808 kB 5.3 MB/s eta 0:00:01\r\u001b[K     |███████████████████████▊        | 819 kB 5.3 MB/s eta 0:00:01\r\u001b[K     |████████████████████████        | 829 kB 5.3 MB/s eta 0:00:01\r\u001b[K     |████████████████████████▎       | 839 kB 5.3 MB/s eta 0:00:01\r\u001b[K     |████████████████████████▋       | 849 kB 5.3 MB/s eta 0:00:01\r\u001b[K     |████████████████████████▉       | 860 kB 5.3 MB/s eta 0:00:01\r\u001b[K     |█████████████████████████▏      | 870 kB 5.3 MB/s eta 0:00:01\r\u001b[K     |█████████████████████████▍      | 880 kB 5.3 MB/s eta 0:00:01\r\u001b[K     |█████████████████████████▊      | 890 kB 5.3 MB/s eta 0:00:01\r\u001b[K     |██████████████████████████      | 901 kB 5.3 MB/s eta 0:00:01\r\u001b[K     |██████████████████████████▎     | 911 kB 5.3 MB/s eta 0:00:01\r\u001b[K     |██████████████████████████▋     | 921 kB 5.3 MB/s eta 0:00:01\r\u001b[K     |███████████████████████████     | 931 kB 5.3 MB/s eta 0:00:01\r\u001b[K     |███████████████████████████▏    | 942 kB 5.3 MB/s eta 0:00:01\r\u001b[K     |███████████████████████████▌    | 952 kB 5.3 MB/s eta 0:00:01\r\u001b[K     |███████████████████████████▉    | 962 kB 5.3 MB/s eta 0:00:01\r\u001b[K     |████████████████████████████    | 972 kB 5.3 MB/s eta 0:00:01\r\u001b[K     |████████████████████████████▍   | 983 kB 5.3 MB/s eta 0:00:01\r\u001b[K     |████████████████████████████▊   | 993 kB 5.3 MB/s eta 0:00:01\r\u001b[K     |█████████████████████████████   | 1.0 MB 5.3 MB/s eta 0:00:01\r\u001b[K     |█████████████████████████████▎  | 1.0 MB 5.3 MB/s eta 0:00:01\r\u001b[K     |█████████████████████████████▋  | 1.0 MB 5.3 MB/s eta 0:00:01\r\u001b[K     |█████████████████████████████▉  | 1.0 MB 5.3 MB/s eta 0:00:01\r\u001b[K     |██████████████████████████████▏ | 1.0 MB 5.3 MB/s eta 0:00:01\r\u001b[K     |██████████████████████████████▌ | 1.1 MB 5.3 MB/s eta 0:00:01\r\u001b[K     |██████████████████████████████▊ | 1.1 MB 5.3 MB/s eta 0:00:01\r\u001b[K     |███████████████████████████████ | 1.1 MB 5.3 MB/s eta 0:00:01\r\u001b[K     |███████████████████████████████▍| 1.1 MB 5.3 MB/s eta 0:00:01\r\u001b[K     |███████████████████████████████▋| 1.1 MB 5.3 MB/s eta 0:00:01\r\u001b[K     |████████████████████████████████| 1.1 MB 5.3 MB/s eta 0:00:01\r\u001b[K     |████████████████████████████████| 1.1 MB 5.3 MB/s \n",
            "\u001b[?25hRequirement already satisfied: typeguard>=2.7 in /usr/local/lib/python3.7/dist-packages (from tensorflow_addons) (2.7.1)\n",
            "Installing collected packages: tensorflow-addons\n",
            "Successfully installed tensorflow-addons-0.14.0\n"
          ]
        }
      ]
    },
    {
      "cell_type": "code",
      "metadata": {
        "id": "jMQYL0X1v0Le",
        "colab": {
          "base_uri": "https://localhost:8080/"
        },
        "outputId": "ff1e8084-fba5-4186-85f4-8871a22b8b6a"
      },
      "source": [
        "import numpy as np\n",
        "import pandas as pd\n",
        "\n",
        "import tensorflow as tf\n",
        "from tensorflow import keras\n",
        "from tensorflow.keras.models import Sequential\n",
        "from keras.layers.convolutional import Conv2D, MaxPooling2D\n",
        "from keras.layers import Activation, Flatten, Dense, Dropout\n",
        "from keras.layers import LSTM\n",
        "from tensorflow.keras.losses import SparseCategoricalCrossentropy\n",
        "from keras.layers import Rescaling\n",
        "from keras.layers import BatchNormalization\n",
        "from keras.utils import np_utils\n",
        "from tensorflow.keras import initializers\n",
        "\n",
        "from keras.datasets import cifar10\n",
        "import tensorflow_addons as tfa\n",
        "\n",
        "import time\n",
        "import matplotlib.pyplot as plt\n",
        "import numpy as np\n",
        "%matplotlib inline\n",
        "\n",
        "\n",
        "# for Problem 3\n",
        "import soundfile as sf\n",
        "import IPython.display as ipd\n",
        "from math import ceil\n",
        "import pickle\n",
        "import glob\n",
        "import librosa\n",
        "import copy\n",
        "import soundfile as sf\n",
        "import IPython.display as ipd\n",
        "\n",
        "import seaborn as sns\n",
        "from mpl_toolkits.mplot3d import Axes3D\n",
        "\n",
        "from google.colab import drive\n",
        "\n",
        "drive.mount('/content/drive' ,force_remount =  True)  "
      ],
      "execution_count": null,
      "outputs": [
        {
          "output_type": "stream",
          "name": "stdout",
          "text": [
            "Mounted at /content/drive\n"
          ]
        }
      ]
    },
    {
      "cell_type": "markdown",
      "metadata": {
        "id": "u9vvsxYJM81L"
      },
      "source": [
        "- **trx0000.wav to trx0009.wav :** are all saying the same\n",
        "sentence spoken by the same person, while they are contaminated by different noise signals. <br>\n",
        "- **trs0000.wav to trs1199.wav :** the original clean speech <br> \n",
        "- **trn0000.wav to trn1199.wav :** noise sources"
      ]
    },
    {
      "cell_type": "code",
      "metadata": {
        "colab": {
          "base_uri": "https://localhost:8080/"
        },
        "id": "PgGIZV5FSRuh",
        "outputId": "1a1f3db4-462c-442b-ccbf-87182ae0772b"
      },
      "source": [
        "!ls '/content/drive/MyDrive/data/timit-homework'"
      ],
      "execution_count": null,
      "outputs": [
        {
          "output_type": "stream",
          "name": "stdout",
          "text": [
            "te\t\t\t   train_noise_lists_pkl.pkl  val_noise_lists_pkl.pkl\n",
            "test_sound_lists_pkl.pkl   train_sound_lists_pkl.pkl  val_sound_lists_pkl.pkl\n",
            "tr\t\t\t   v\n",
            "train_clean_lists_pkl.pkl  val_clean_lists_pkl.pkl\n"
          ]
        }
      ]
    },
    {
      "cell_type": "code",
      "metadata": {
        "id": "_GZ4Kh8CNC2h"
      },
      "source": [
        "dirpath = '/content/drive/MyDrive/data/timit-homework/'"
      ],
      "execution_count": null,
      "outputs": []
    },
    {
      "cell_type": "markdown",
      "metadata": {
        "id": "iwQh99k6czCc"
      },
      "source": [
        "### Helper function to read and transform sound files."
      ]
    },
    {
      "cell_type": "code",
      "metadata": {
        "id": "vD9gooDVS-cK"
      },
      "source": [
        "def file_op(file):\n",
        "  #Loading train files\n",
        "  \n",
        "  s,sr=librosa.load(file, sr=None)\n",
        "  S=librosa.stft(s, n_fft=1024, hop_length=512)\n",
        "  \n",
        "  #Taking absolute of input and output of training file\n",
        "  S =  S.T\n",
        "  S_abs = np.abs(S)\n",
        "  \n",
        "  #print(S_abs.shape)\n",
        "  \n",
        "  return s, S, S_abs"
      ],
      "execution_count": null,
      "outputs": []
    },
    {
      "cell_type": "code",
      "metadata": {
        "id": "u9OhscuoS_gj"
      },
      "source": [
        "def load_files(filepath):\n",
        "  \n",
        "  at_list = []\n",
        "  spec_list = []\n",
        "  spec_abs_list = []\n",
        "  \n",
        "  print(dirpath+filepath)\n",
        "  \n",
        "  for file in sorted(glob.glob(dirpath+filepath)):\n",
        "    at, spec, spec_abs = file_op(file)\n",
        "\n",
        "    at_list.append(at)\n",
        "    spec_list.append(spec)\n",
        "    spec_abs_list.append(spec_abs)\n",
        "\n",
        "  sound_lists = {'at_list':at_list,\n",
        "           'spec_list': spec_list,\n",
        "           'spec_abs_list': spec_abs_list}\n",
        "  \n",
        "  return sound_lists"
      ],
      "execution_count": null,
      "outputs": []
    },
    {
      "cell_type": "markdown",
      "metadata": {
        "id": "lSW1e8VEfgrq"
      },
      "source": [
        "### Read all the sound files and transform using librosa"
      ]
    },
    {
      "cell_type": "markdown",
      "metadata": {
        "id": "uAle_BukezVV"
      },
      "source": [
        "**Load Training Sounds List**"
      ]
    },
    {
      "cell_type": "code",
      "metadata": {
        "colab": {
          "base_uri": "https://localhost:8080/"
        },
        "id": "HLaEr_erToI-",
        "outputId": "490ca2d4-55ba-400c-8570-dd6b25acb5f4"
      },
      "source": [
        "%%time\n",
        "#Loading files\n",
        "train_sound_lists = load_files('tr/trx*')"
      ],
      "execution_count": null,
      "outputs": [
        {
          "output_type": "stream",
          "name": "stdout",
          "text": [
            "/content/drive/MyDrive/data/timit-homework/tr/trx*\n"
          ]
        }
      ]
    },
    {
      "cell_type": "code",
      "metadata": {
        "colab": {
          "base_uri": "https://localhost:8080/"
        },
        "id": "EbQKFSxiT-DP",
        "outputId": "8f3e86eb-6803-43fd-f2b2-82df31653f58"
      },
      "source": [
        "print(\"train_sound_lists details:  \")\n",
        "\n",
        "print(train_sound_lists.keys())\n",
        "print(len(train_sound_lists.get('at_list')))\n",
        "print(train_sound_lists.get('at_list')[0].shape)\n",
        "\n",
        "print(len(train_sound_lists.get('spec_list')))\n",
        "print(train_sound_lists.get('spec_list')[0].shape)\n",
        "\n",
        "print(len(train_sound_lists.get('spec_abs_list')))\n",
        "print(train_sound_lists.get('spec_abs_list')[0].shape)"
      ],
      "execution_count": null,
      "outputs": [
        {
          "output_type": "stream",
          "name": "stdout",
          "text": [
            "dict_keys(['at_list', 'spec_list', 'spec_abs_list'])\n",
            "1200\n",
            "(33178,)\n",
            "1200\n",
            "(65, 513)\n",
            "1200\n",
            "(65, 513)\n"
          ]
        }
      ]
    },
    {
      "cell_type": "markdown",
      "metadata": {
        "id": "oPOvManRe52U"
      },
      "source": [
        "**Load Clean and Noise Sounds**"
      ]
    },
    {
      "cell_type": "code",
      "metadata": {
        "colab": {
          "base_uri": "https://localhost:8080/"
        },
        "id": "RK6nWUX8URVZ",
        "outputId": "b1a1ff91-3454-46b7-e7c0-e3b05681923b"
      },
      "source": [
        "%%time\n",
        "#Loading clean and noise files\n",
        "train_clean_lists = load_files('tr/trs*')\n",
        "train_noise_lists = load_files('tr/trn*')"
      ],
      "execution_count": null,
      "outputs": [
        {
          "output_type": "stream",
          "name": "stdout",
          "text": [
            "/content/drive/MyDrive/data/timit-homework/tr/trs*\n",
            "/content/drive/MyDrive/data/timit-homework/tr/trn*\n",
            "CPU times: user 8.8 s, sys: 3.87 s, total: 12.7 s\n",
            "Wall time: 6min 4s\n"
          ]
        }
      ]
    },
    {
      "cell_type": "code",
      "metadata": {
        "colab": {
          "base_uri": "https://localhost:8080/"
        },
        "id": "Z8akcHTKYjoX",
        "outputId": "31e31f81-00f1-48a6-9b7a-06abb3e00bcf"
      },
      "source": [
        "print(\"train_clean_lists details:  \")\n",
        "print(train_clean_lists.keys())\n",
        "print(len(train_clean_lists.get('at_list')))\n",
        "print(train_clean_lists.get('at_list')[0].shape)\n",
        "\n",
        "print(len(train_clean_lists.get('spec_list')))\n",
        "print(train_clean_lists.get('spec_list')[0].shape)\n",
        "\n",
        "print(len(train_clean_lists.get('spec_abs_list')))\n",
        "print(train_clean_lists.get('spec_abs_list')[0].shape)"
      ],
      "execution_count": null,
      "outputs": [
        {
          "output_type": "stream",
          "name": "stdout",
          "text": [
            "train_clean_lists details:  \n",
            "dict_keys(['at_list', 'spec_list', 'spec_abs_list'])\n",
            "1200\n",
            "(33178,)\n",
            "1200\n",
            "(65, 513)\n",
            "1200\n",
            "(65, 513)\n"
          ]
        }
      ]
    },
    {
      "cell_type": "code",
      "metadata": {
        "colab": {
          "base_uri": "https://localhost:8080/"
        },
        "id": "QIAkyDMHYxME",
        "outputId": "099f33da-ad38-4b08-ebd3-2b3b5504e3d4"
      },
      "source": [
        "print(\"train_noise_lists details:  \")\n",
        "print(train_noise_lists.keys())\n",
        "print(len(train_noise_lists.get('at_list')))\n",
        "print(train_noise_lists.get('at_list')[0].shape)\n",
        "\n",
        "print(len(train_noise_lists.get('spec_list')))\n",
        "print(train_noise_lists.get('spec_list')[0].shape)\n",
        "\n",
        "print(len(train_noise_lists.get('spec_abs_list')))\n",
        "print(train_noise_lists.get('spec_abs_list')[0].shape)"
      ],
      "execution_count": null,
      "outputs": [
        {
          "output_type": "stream",
          "name": "stdout",
          "text": [
            "train_noise_lists details:  \n",
            "dict_keys(['at_list', 'spec_list', 'spec_abs_list'])\n",
            "1200\n",
            "(33178,)\n",
            "1200\n",
            "(65, 513)\n",
            "1200\n",
            "(65, 513)\n"
          ]
        }
      ]
    },
    {
      "cell_type": "markdown",
      "metadata": {
        "id": "_uIf1ZGafAPC"
      },
      "source": [
        "**Load Validation Sounds**"
      ]
    },
    {
      "cell_type": "code",
      "metadata": {
        "colab": {
          "base_uri": "https://localhost:8080/"
        },
        "id": "lGSi9EMLUtv_",
        "outputId": "cf123ae6-609f-4565-af48-4be04100e587"
      },
      "source": [
        "%%time\n",
        "#Loading validations files\n",
        "val_sound_lists = load_files('v/vx*')\n",
        "val_clean_lists = load_files('v/vs*')\n",
        "val_noise_lists = load_files('v/vn*')"
      ],
      "execution_count": null,
      "outputs": [
        {
          "output_type": "stream",
          "name": "stdout",
          "text": [
            "/content/drive/MyDrive/data/timit-homework/v/vx*\n",
            "/content/drive/MyDrive/data/timit-homework/v/vs*\n",
            "/content/drive/MyDrive/data/timit-homework/v/vn*\n",
            "CPU times: user 9.88 s, sys: 2.82 s, total: 12.7 s\n",
            "Wall time: 12min 42s\n"
          ]
        }
      ]
    },
    {
      "cell_type": "code",
      "metadata": {
        "colab": {
          "base_uri": "https://localhost:8080/"
        },
        "id": "qr1CygOyZMQP",
        "outputId": "172838af-117e-4a01-ffbe-f4900a37b016"
      },
      "source": [
        "print(\"validation files details:  \")\n",
        "\n",
        "print(len(val_sound_lists.get('spec_abs_list')))\n",
        "print(val_sound_lists.get('spec_abs_list')[0].shape)\n",
        "\n",
        "print(len(val_clean_lists.get('spec_abs_list')))\n",
        "print(val_clean_lists.get('spec_abs_list')[0].shape)\n",
        "\n",
        "print(len(val_noise_lists.get('spec_abs_list')))\n",
        "print(val_noise_lists.get('spec_abs_list')[0].shape)"
      ],
      "execution_count": null,
      "outputs": [
        {
          "output_type": "stream",
          "name": "stdout",
          "text": [
            "validation files details:  \n",
            "1200\n",
            "(65, 513)\n",
            "1200\n",
            "(65, 513)\n",
            "1200\n",
            "(65, 513)\n"
          ]
        }
      ]
    },
    {
      "cell_type": "markdown",
      "metadata": {
        "id": "MOjYCIubfErh"
      },
      "source": [
        "**Load Test Sounds**"
      ]
    },
    {
      "cell_type": "code",
      "metadata": {
        "colab": {
          "base_uri": "https://localhost:8080/"
        },
        "id": "qt5YW89vUxGB",
        "outputId": "277ce21a-c310-4500-f7cb-195467ae93d5"
      },
      "source": [
        "%%time \n",
        "\n",
        "#Loading test files\n",
        "test_sound_lists = load_files('te/tex*')"
      ],
      "execution_count": null,
      "outputs": [
        {
          "output_type": "stream",
          "name": "stdout",
          "text": [
            "/content/drive/MyDrive/data/timit-homework/te/tex*\n",
            "CPU times: user 1.53 s, sys: 773 ms, total: 2.31 s\n",
            "Wall time: 1min 18s\n"
          ]
        }
      ]
    },
    {
      "cell_type": "code",
      "metadata": {
        "colab": {
          "base_uri": "https://localhost:8080/"
        },
        "id": "ey9y_5frbk7z",
        "outputId": "c82f4ebe-5a8a-4191-95c9-5dc6b3373b6e"
      },
      "source": [
        "print(len(test_sound_lists.get('spec_abs_list')))\n",
        "print(test_sound_lists.get('spec_abs_list')[0].shape)"
      ],
      "execution_count": null,
      "outputs": [
        {
          "output_type": "stream",
          "name": "stdout",
          "text": [
            "400\n",
            "(110, 513)\n"
          ]
        }
      ]
    },
    {
      "cell_type": "markdown",
      "metadata": {
        "id": "HPOoim-FfJMD"
      },
      "source": [
        "### Create pickle files for easy access"
      ]
    },
    {
      "cell_type": "code",
      "metadata": {
        "id": "cfVBe-NwV1I_"
      },
      "source": [
        "#Loading files to pickle - Training\n",
        "sound_lists_pkl = open(dirpath+\"train_sound_lists_pkl.pkl\",\"wb\")\n",
        "pickle.dump(train_sound_lists, sound_lists_pkl)\n",
        "sound_lists_pkl.close()\n",
        "\n",
        "clean_lists_pkl = open(dirpath+\"train_clean_lists_pkl.pkl\",\"wb\")\n",
        "pickle.dump(train_clean_lists, clean_lists_pkl)\n",
        "clean_lists_pkl.close()\n",
        "\n",
        "noise_lists_pkl = open(dirpath+\"train_noise_lists_pkl.pkl\",\"wb\")\n",
        "pickle.dump(train_noise_lists, noise_lists_pkl)\n",
        "noise_lists_pkl.close()"
      ],
      "execution_count": null,
      "outputs": []
    },
    {
      "cell_type": "code",
      "metadata": {
        "id": "RTnTl8xuWBzT"
      },
      "source": [
        "# Loading files to pickle - Validation\n",
        "sound_lists_pkl = open(dirpath+\"val_sound_lists_pkl.pkl\",\"wb\")\n",
        "pickle.dump(val_sound_lists, sound_lists_pkl)\n",
        "sound_lists_pkl.close()\n",
        "\n",
        "clean_lists_pkl = open(dirpath+\"val_clean_lists_pkl.pkl\",\"wb\")\n",
        "pickle.dump(val_clean_lists, clean_lists_pkl)\n",
        "clean_lists_pkl.close()\n",
        "\n",
        "noise_lists_pkl = open(dirpath+\"val_noise_lists_pkl.pkl\",\"wb\")\n",
        "pickle.dump(val_noise_lists, noise_lists_pkl)\n",
        "noise_lists_pkl.close()"
      ],
      "execution_count": null,
      "outputs": []
    },
    {
      "cell_type": "code",
      "metadata": {
        "id": "o2CKlEJzWOri"
      },
      "source": [
        "# Loading files to pickle  - Test\n",
        "sound_lists_pkl = open(dirpath+\"test_sound_lists_pkl.pkl\",\"wb\")\n",
        "pickle.dump(test_sound_lists, sound_lists_pkl)\n",
        "sound_lists_pkl.close()"
      ],
      "execution_count": null,
      "outputs": []
    },
    {
      "cell_type": "markdown",
      "metadata": {
        "id": "_wQzt9HTfWAD"
      },
      "source": [
        "### Read the pickle files from colab"
      ]
    },
    {
      "cell_type": "code",
      "metadata": {
        "id": "sewf3IlnV8Or",
        "colab": {
          "base_uri": "https://localhost:8080/"
        },
        "outputId": "5aac9b8a-f860-4a7d-bb67-05ead9fb6bfc"
      },
      "source": [
        "%%time\n",
        "# Loading files to pickle from colab - Training\n",
        "\n",
        "dirpath = '/content/drive/MyDrive/data/timit-homework/'\n",
        "\n",
        "sound_lists_pkl_in = open(dirpath+\"train_sound_lists_pkl.pkl\", \"rb\")\n",
        "train_sound_lists = pickle.load(sound_lists_pkl_in)\n",
        "\n",
        "noise_lists_pkl_in = open(dirpath+\"train_noise_lists_pkl.pkl\", \"rb\")\n",
        "train_noise_lists = pickle.load(noise_lists_pkl_in)\n",
        "\n",
        "clean_lists_pkl_in = open(dirpath+\"train_clean_lists_pkl.pkl\", \"rb\")\n",
        "train_clean_lists = pickle.load(clean_lists_pkl_in)"
      ],
      "execution_count": null,
      "outputs": [
        {
          "output_type": "stream",
          "name": "stdout",
          "text": [
            "CPU times: user 933 ms, sys: 3.4 s, total: 4.34 s\n",
            "Wall time: 25.2 s\n"
          ]
        }
      ]
    },
    {
      "cell_type": "code",
      "metadata": {
        "colab": {
          "base_uri": "https://localhost:8080/"
        },
        "id": "Gh3lgIEfgY0i",
        "outputId": "b26da3df-2d6d-4432-8e78-a63592f2ea46"
      },
      "source": [
        "print(train_sound_lists.keys())\n",
        "train_sound_lists.get('spec_abs_list')[0].shape"
      ],
      "execution_count": null,
      "outputs": [
        {
          "output_type": "stream",
          "name": "stdout",
          "text": [
            "dict_keys(['at_list', 'spec_list', 'spec_abs_list'])\n"
          ]
        },
        {
          "output_type": "execute_result",
          "data": {
            "text/plain": [
              "(65, 513)"
            ]
          },
          "metadata": {},
          "execution_count": 7
        }
      ]
    },
    {
      "cell_type": "code",
      "metadata": {
        "id": "wECLR8j4WJYU",
        "colab": {
          "base_uri": "https://localhost:8080/"
        },
        "outputId": "4d66c9c4-5a73-4097-ef29-f648ee05e2a4"
      },
      "source": [
        "%%time\n",
        "# Loading files to pickle from colab- Validation\n",
        "sound_lists_pkl_in = open(dirpath+\"val_sound_lists_pkl.pkl\", \"rb\")\n",
        "val_sound_lists = pickle.load(sound_lists_pkl_in)\n",
        "\n",
        "noise_lists_pkl_in = open(dirpath+\"val_clean_lists_pkl.pkl\", \"rb\")\n",
        "val_noise_lists = pickle.load(noise_lists_pkl_in)\n",
        "\n",
        "clean_lists_pkl_in = open(dirpath+\"val_noise_lists_pkl.pkl\", \"rb\")\n",
        "val_clean_lists = pickle.load(clean_lists_pkl_in)"
      ],
      "execution_count": null,
      "outputs": [
        {
          "output_type": "stream",
          "name": "stdout",
          "text": [
            "CPU times: user 915 ms, sys: 3.48 s, total: 4.39 s\n",
            "Wall time: 24.1 s\n"
          ]
        }
      ]
    },
    {
      "cell_type": "code",
      "metadata": {
        "colab": {
          "base_uri": "https://localhost:8080/"
        },
        "id": "1zJYWne_pdjp",
        "outputId": "e15ecabf-9066-48e1-fb9f-a2753937e66f"
      },
      "source": [
        "print(val_sound_lists.keys())\n",
        "val_sound_lists.get('spec_abs_list')[0].shape"
      ],
      "execution_count": null,
      "outputs": [
        {
          "output_type": "stream",
          "name": "stdout",
          "text": [
            "dict_keys(['at_list', 'spec_list', 'spec_abs_list'])\n"
          ]
        },
        {
          "output_type": "execute_result",
          "data": {
            "text/plain": [
              "(65, 513)"
            ]
          },
          "metadata": {},
          "execution_count": 9
        }
      ]
    },
    {
      "cell_type": "code",
      "metadata": {
        "id": "h5zlr1BLWzeW"
      },
      "source": [
        "# Loading files to pickle from colab - Test\n",
        "sound_lists_pkl_in = open(dirpath+\"test_sound_lists_pkl.pkl\", \"rb\")\n",
        "test_sound_lists = pickle.load(sound_lists_pkl_in)"
      ],
      "execution_count": null,
      "outputs": []
    },
    {
      "cell_type": "code",
      "metadata": {
        "colab": {
          "base_uri": "https://localhost:8080/"
        },
        "id": "y8gxMpVaA5ZE",
        "outputId": "777104c3-6714-4cee-e278-6835b167117a"
      },
      "source": [
        "train_sound_lists.keys()\n",
        "# (train_sound_lists.get('spec_abs_list')[0].shape)\n",
        "len(train_sound_lists['spec_abs_list'])"
      ],
      "execution_count": null,
      "outputs": [
        {
          "output_type": "execute_result",
          "data": {
            "text/plain": [
              "1200"
            ]
          },
          "metadata": {},
          "execution_count": 11
        }
      ]
    },
    {
      "cell_type": "markdown",
      "metadata": {
        "id": "oKcdCu1_7yEq"
      },
      "source": [
        "((top, bottom), (left, right)) <br>\n",
        "A = np.array([[1,2],[3,4]])<br>\n",
        "\n",
        "np.pad(A, ((1,2),(2,1)), 'constant')\n",
        "\n",
        "https://stackoverflow.com/questions/38191855/zero-pad-numpy-array\n",
        "\n"
      ]
    },
    {
      "cell_type": "code",
      "metadata": {
        "id": "8HMPswGTpJgq"
      },
      "source": [
        "# def padding_test(data, batch_size = 10):\n",
        "#   for i in range(len(data)):\n",
        "#     print(data[i].size)\n",
        "#     B = np.pad(data[i],((0, batch_size - data[i].shape[0] % batch_size),(0,0)), \n",
        "#                mode='constant',constant_values = 0 )\n",
        "#     A = np.reshape(B, (10, -1,513 ))\n",
        "#     print(A.shape)\n",
        "#     if i ==1:\n",
        "#       break\n",
        "\n",
        "# padding_test(train_sound_lists['spec_abs_list'])"
      ],
      "execution_count": null,
      "outputs": []
    },
    {
      "cell_type": "markdown",
      "metadata": {
        "id": "QOtwa3L-LbYH"
      },
      "source": [
        "### Input data and validation data padding"
      ]
    },
    {
      "cell_type": "code",
      "metadata": {
        "id": "dC8_qaGJEQuj"
      },
      "source": [
        "# function to pad each input array to batch size\n",
        "\n",
        "def data_padding(data, batch_size = 10):\n",
        "  final_data = []\n",
        "  B = []\n",
        "  for i in range(len(data)):\n",
        "    B = np.pad(data[i],((0, batch_size - data[i].shape[0] % batch_size),(0,0)), \n",
        "               mode='constant',constant_values = 0 )\n",
        "    final_data.append(np.reshape(B, (-1, 10,513 )))\n",
        "  return final_data\n",
        " "
      ],
      "execution_count": null,
      "outputs": []
    },
    {
      "cell_type": "markdown",
      "metadata": {
        "id": "vKFo0uyLW-uV"
      },
      "source": [
        "### Ideal Binary Masks (IBM)."
      ]
    },
    {
      "cell_type": "code",
      "metadata": {
        "id": "H925I8x_hIqT"
      },
      "source": [
        "IBM=[]\n",
        "for i in range(1200):\n",
        "  m = 1*(train_noise_lists['spec_abs_list'][i]<train_clean_lists['spec_abs_list'][i])\n",
        "  IBM.append(m)"
      ],
      "execution_count": null,
      "outputs": []
    },
    {
      "cell_type": "code",
      "metadata": {
        "colab": {
          "base_uri": "https://localhost:8080/"
        },
        "id": "HQn3qbvGKovq",
        "outputId": "7c89b685-c205-4cc6-fa6f-b2a13dd6c345"
      },
      "source": [
        "(train_sound_lists['spec_abs_list'][0].shape)"
      ],
      "execution_count": null,
      "outputs": [
        {
          "output_type": "execute_result",
          "data": {
            "text/plain": [
              "(65, 513)"
            ]
          },
          "metadata": {},
          "execution_count": 15
        }
      ]
    },
    {
      "cell_type": "code",
      "metadata": {
        "id": "U5RstjJX8v4c"
      },
      "source": [
        "X_batch =  data_padding(train_sound_lists['spec_abs_list'])"
      ],
      "execution_count": null,
      "outputs": []
    },
    {
      "cell_type": "code",
      "metadata": {
        "colab": {
          "base_uri": "https://localhost:8080/"
        },
        "id": "eHBXoxOSfpat",
        "outputId": "8366f1b8-c5ab-453a-cc9e-86dc92037d5e"
      },
      "source": [
        "y_batch = data_padding(IBM)\n",
        "y_batch[0].shape"
      ],
      "execution_count": null,
      "outputs": [
        {
          "output_type": "execute_result",
          "data": {
            "text/plain": [
              "(7, 10, 513)"
            ]
          },
          "metadata": {},
          "execution_count": 17
        }
      ]
    },
    {
      "cell_type": "code",
      "metadata": {
        "id": "765lCLmKgPsl"
      },
      "source": [
        "def stack_data(data):\n",
        "  final_array = []\n",
        "  for i in range(len(data)):\n",
        "    for j in range(data[i].shape[0]):\n",
        "      # for z in range(data[i].shape[1]):\n",
        "      # print(data[i][j].shape)\n",
        "      final_array.append(data[i][j])\n",
        "  return final_array\n",
        "\n",
        "arr = stack_data(X_batch)\n",
        "# X_batch = np.array(X_batch)\n",
        "train_x = np.reshape(arr, (-1, 10, 513))"
      ],
      "execution_count": null,
      "outputs": []
    },
    {
      "cell_type": "code",
      "metadata": {
        "colab": {
          "base_uri": "https://localhost:8080/"
        },
        "id": "meseDVRUilCA",
        "outputId": "fc84c6e9-0055-4f94-904c-4464bb572de5"
      },
      "source": [
        "train_x.shape"
      ],
      "execution_count": null,
      "outputs": [
        {
          "output_type": "execute_result",
          "data": {
            "text/plain": [
              "(12550, 10, 513)"
            ]
          },
          "metadata": {},
          "execution_count": 19
        }
      ]
    },
    {
      "cell_type": "code",
      "metadata": {
        "id": "zkCSW6Gbixie"
      },
      "source": [
        "arr_y = stack_data(y_batch)\n",
        "train_y = np.reshape(arr_y, (-1, 10, 513))"
      ],
      "execution_count": null,
      "outputs": []
    },
    {
      "cell_type": "code",
      "metadata": {
        "colab": {
          "base_uri": "https://localhost:8080/"
        },
        "id": "Ig6_0Q6wc7J2",
        "outputId": "1c3819fd-7ae1-432d-c5c7-7947d9ca7860"
      },
      "source": [
        "train_x.shape , train_y.shape"
      ],
      "execution_count": null,
      "outputs": [
        {
          "output_type": "execute_result",
          "data": {
            "text/plain": [
              "((12550, 10, 513), (12550, 10, 513))"
            ]
          },
          "metadata": {},
          "execution_count": 21
        }
      ]
    },
    {
      "cell_type": "markdown",
      "metadata": {
        "id": "fohrUUDzmATg"
      },
      "source": [
        "#### Validation set"
      ]
    },
    {
      "cell_type": "code",
      "metadata": {
        "id": "4Q-kKVXrlvTI"
      },
      "source": [
        "val_x_batch =  data_padding(val_sound_lists['spec_abs_list'])\n",
        "arr_val_x = stack_data(val_x_batch)\n",
        "\n",
        "val_x = np.reshape(arr_val_x, (-1, 10, 513))"
      ],
      "execution_count": null,
      "outputs": []
    },
    {
      "cell_type": "code",
      "metadata": {
        "id": "en02wJLFmVZb"
      },
      "source": [
        "IBM_val=[]\n",
        "for i in range(1200):\n",
        "  m = 1*(val_noise_lists['spec_abs_list'][i] < val_clean_lists['spec_abs_list'][i])\n",
        "  IBM_val.append(m)\n",
        "\n",
        "val_y_batch = data_padding(IBM_val)\n",
        "arr_val_y = stack_data(val_y_batch)\n",
        "val_y = np.reshape(arr_val_y, (-1, 10, 513))"
      ],
      "execution_count": null,
      "outputs": []
    },
    {
      "cell_type": "code",
      "metadata": {
        "colab": {
          "base_uri": "https://localhost:8080/"
        },
        "id": "QRLUcu3-mRrm",
        "outputId": "ce6bdaa6-78c0-450c-bb75-2353a6940558"
      },
      "source": [
        "val_x.shape, val_y.shape"
      ],
      "execution_count": null,
      "outputs": [
        {
          "output_type": "execute_result",
          "data": {
            "text/plain": [
              "((12550, 10, 513), (12550, 10, 513))"
            ]
          },
          "metadata": {},
          "execution_count": 24
        }
      ]
    },
    {
      "cell_type": "code",
      "metadata": {
        "id": "MGPYzLeyhR8R"
      },
      "source": [
        "SD_Lstm_model = Sequential([\n",
        "  LSTM(16, input_shape=(None, 513), return_sequences= True),\n",
        "  LSTM(16),\n",
        "  Dropout(0.4),\n",
        "  Dense(1, activation=\"sigmoid\")\n",
        "  ])\n",
        "\n",
        "\n",
        "# create and fit the LSTM network\n",
        "# SD_Lstm_model = Sequential()\n",
        "# SD_Lstm_model.add(LSTM(4, input_shape=(10, 513)))\n",
        "# SD_Lstm_model.add(Dense(1))\n",
        "# SD_Lstm_model.compile(loss='mean_squared_error', optimizer='adam')"
      ],
      "execution_count": null,
      "outputs": []
    },
    {
      "cell_type": "code",
      "metadata": {
        "id": "Vk_D7qdPk3EE"
      },
      "source": [
        "# Compile the model\n",
        "optimizer_lstm = keras.optimizers.Adam(learning_rate=0.001)\n",
        "SD_Lstm_model.compile(optimizer=optimizer_lstm, \n",
        "                    loss=tf.keras.losses.MeanSquaredError(),\n",
        "                    metrics=['accuracy'])"
      ],
      "execution_count": null,
      "outputs": []
    },
    {
      "cell_type": "code",
      "metadata": {
        "colab": {
          "base_uri": "https://localhost:8080/"
        },
        "id": "9UchVtIJGBmq",
        "outputId": "6ca0d8e4-5a14-41e4-c528-5a10ac446fee"
      },
      "source": [
        "%%time\n",
        "batch_size = 10\n",
        "n_epochs =50\n",
        " \n",
        "SD_Lstm_model_history = SD_Lstm_model.fit(x=train_x, y = train_y, \n",
        "                        batch_size=batch_size, epochs= n_epochs,\n",
        "                        validation_data = (val_x, val_y), \n",
        "                        # steps_per_epoch = len(total_train_dataset)//batch_size,\n",
        "                        verbose=2)"
      ],
      "execution_count": null,
      "outputs": [
        {
          "output_type": "stream",
          "name": "stdout",
          "text": [
            "Epoch 1/50\n",
            "1255/1255 - 16s - loss: 0.2436 - accuracy: 0.5838 - val_loss: 0.2611 - val_accuracy: 0.4869\n",
            "Epoch 2/50\n",
            "1255/1255 - 8s - loss: 0.2430 - accuracy: 0.5839 - val_loss: 0.2611 - val_accuracy: 0.4869\n",
            "Epoch 3/50\n",
            "1255/1255 - 8s - loss: 0.2430 - accuracy: 0.5839 - val_loss: 0.2606 - val_accuracy: 0.4869\n",
            "Epoch 4/50\n",
            "1255/1255 - 8s - loss: 0.2428 - accuracy: 0.5839 - val_loss: 0.2593 - val_accuracy: 0.4869\n",
            "Epoch 5/50\n",
            "1255/1255 - 8s - loss: 0.2429 - accuracy: 0.5839 - val_loss: 0.2607 - val_accuracy: 0.4869\n",
            "Epoch 6/50\n",
            "1255/1255 - 8s - loss: 0.2428 - accuracy: 0.5839 - val_loss: 0.2623 - val_accuracy: 0.4869\n",
            "Epoch 7/50\n",
            "1255/1255 - 8s - loss: 0.2428 - accuracy: 0.5839 - val_loss: 0.2612 - val_accuracy: 0.4869\n",
            "Epoch 8/50\n",
            "1255/1255 - 8s - loss: 0.2428 - accuracy: 0.5839 - val_loss: 0.2627 - val_accuracy: 0.4869\n",
            "Epoch 9/50\n",
            "1255/1255 - 8s - loss: 0.2427 - accuracy: 0.5839 - val_loss: 0.2628 - val_accuracy: 0.4869\n",
            "Epoch 10/50\n",
            "1255/1255 - 8s - loss: 0.2427 - accuracy: 0.5839 - val_loss: 0.2624 - val_accuracy: 0.4869\n",
            "Epoch 11/50\n",
            "1255/1255 - 8s - loss: 0.2427 - accuracy: 0.5839 - val_loss: 0.2613 - val_accuracy: 0.4869\n",
            "Epoch 12/50\n",
            "1255/1255 - 8s - loss: 0.2427 - accuracy: 0.5839 - val_loss: 0.2607 - val_accuracy: 0.4869\n",
            "Epoch 13/50\n",
            "1255/1255 - 8s - loss: 0.2426 - accuracy: 0.5839 - val_loss: 0.2623 - val_accuracy: 0.4869\n",
            "Epoch 14/50\n",
            "1255/1255 - 8s - loss: 0.2427 - accuracy: 0.5839 - val_loss: 0.2631 - val_accuracy: 0.4869\n",
            "Epoch 15/50\n",
            "1255/1255 - 8s - loss: 0.2426 - accuracy: 0.5838 - val_loss: 0.2633 - val_accuracy: 0.4869\n",
            "Epoch 16/50\n",
            "1255/1255 - 8s - loss: 0.2427 - accuracy: 0.5839 - val_loss: 0.2623 - val_accuracy: 0.4869\n",
            "Epoch 17/50\n",
            "1255/1255 - 8s - loss: 0.2426 - accuracy: 0.5839 - val_loss: 0.2646 - val_accuracy: 0.4869\n",
            "Epoch 18/50\n",
            "1255/1255 - 8s - loss: 0.2426 - accuracy: 0.5838 - val_loss: 0.2623 - val_accuracy: 0.4869\n",
            "Epoch 19/50\n",
            "1255/1255 - 8s - loss: 0.2426 - accuracy: 0.5839 - val_loss: 0.2600 - val_accuracy: 0.4869\n",
            "Epoch 20/50\n",
            "1255/1255 - 8s - loss: 0.2425 - accuracy: 0.5839 - val_loss: 0.2620 - val_accuracy: 0.4869\n",
            "Epoch 21/50\n",
            "1255/1255 - 8s - loss: 0.2426 - accuracy: 0.5839 - val_loss: 0.2608 - val_accuracy: 0.4869\n",
            "Epoch 22/50\n",
            "1255/1255 - 8s - loss: 0.2426 - accuracy: 0.5839 - val_loss: 0.2626 - val_accuracy: 0.4869\n",
            "Epoch 23/50\n",
            "1255/1255 - 8s - loss: 0.2426 - accuracy: 0.5838 - val_loss: 0.2622 - val_accuracy: 0.4869\n",
            "Epoch 24/50\n",
            "1255/1255 - 8s - loss: 0.2425 - accuracy: 0.5839 - val_loss: 0.2629 - val_accuracy: 0.4869\n",
            "Epoch 25/50\n",
            "1255/1255 - 8s - loss: 0.2425 - accuracy: 0.5838 - val_loss: 0.2632 - val_accuracy: 0.4869\n",
            "Epoch 26/50\n",
            "1255/1255 - 8s - loss: 0.2426 - accuracy: 0.5838 - val_loss: 0.2622 - val_accuracy: 0.4869\n",
            "Epoch 27/50\n",
            "1255/1255 - 8s - loss: 0.2426 - accuracy: 0.5839 - val_loss: 0.2616 - val_accuracy: 0.4869\n",
            "Epoch 28/50\n",
            "1255/1255 - 8s - loss: 0.2427 - accuracy: 0.5838 - val_loss: 0.2626 - val_accuracy: 0.4869\n",
            "Epoch 29/50\n",
            "1255/1255 - 8s - loss: 0.2426 - accuracy: 0.5839 - val_loss: 0.2612 - val_accuracy: 0.4869\n",
            "Epoch 30/50\n",
            "1255/1255 - 8s - loss: 0.2426 - accuracy: 0.5839 - val_loss: 0.2631 - val_accuracy: 0.4869\n",
            "Epoch 31/50\n",
            "1255/1255 - 8s - loss: 0.2426 - accuracy: 0.5839 - val_loss: 0.2615 - val_accuracy: 0.4869\n",
            "Epoch 32/50\n",
            "1255/1255 - 8s - loss: 0.2426 - accuracy: 0.5839 - val_loss: 0.2637 - val_accuracy: 0.4869\n",
            "Epoch 33/50\n",
            "1255/1255 - 8s - loss: 0.2426 - accuracy: 0.5839 - val_loss: 0.2616 - val_accuracy: 0.4869\n",
            "Epoch 34/50\n",
            "1255/1255 - 8s - loss: 0.2425 - accuracy: 0.5839 - val_loss: 0.2627 - val_accuracy: 0.4869\n",
            "Epoch 35/50\n",
            "1255/1255 - 8s - loss: 0.2426 - accuracy: 0.5839 - val_loss: 0.2619 - val_accuracy: 0.4869\n",
            "Epoch 36/50\n",
            "1255/1255 - 8s - loss: 0.2425 - accuracy: 0.5839 - val_loss: 0.2621 - val_accuracy: 0.4869\n",
            "Epoch 37/50\n",
            "1255/1255 - 8s - loss: 0.2426 - accuracy: 0.5839 - val_loss: 0.2608 - val_accuracy: 0.4869\n",
            "Epoch 38/50\n",
            "1255/1255 - 8s - loss: 0.2426 - accuracy: 0.5839 - val_loss: 0.2634 - val_accuracy: 0.4869\n",
            "Epoch 39/50\n",
            "1255/1255 - 8s - loss: 0.2425 - accuracy: 0.5839 - val_loss: 0.2616 - val_accuracy: 0.4869\n",
            "Epoch 40/50\n",
            "1255/1255 - 8s - loss: 0.2426 - accuracy: 0.5839 - val_loss: 0.2605 - val_accuracy: 0.4869\n",
            "Epoch 41/50\n",
            "1255/1255 - 8s - loss: 0.2426 - accuracy: 0.5839 - val_loss: 0.2622 - val_accuracy: 0.4869\n",
            "Epoch 42/50\n",
            "1255/1255 - 8s - loss: 0.2425 - accuracy: 0.5839 - val_loss: 0.2629 - val_accuracy: 0.4869\n",
            "Epoch 43/50\n",
            "1255/1255 - 8s - loss: 0.2426 - accuracy: 0.5839 - val_loss: 0.2628 - val_accuracy: 0.4869\n",
            "Epoch 44/50\n",
            "1255/1255 - 8s - loss: 0.2425 - accuracy: 0.5839 - val_loss: 0.2615 - val_accuracy: 0.4869\n",
            "Epoch 45/50\n",
            "1255/1255 - 8s - loss: 0.2425 - accuracy: 0.5839 - val_loss: 0.2630 - val_accuracy: 0.4869\n",
            "Epoch 46/50\n",
            "1255/1255 - 8s - loss: 0.2425 - accuracy: 0.5839 - val_loss: 0.2628 - val_accuracy: 0.4869\n",
            "Epoch 47/50\n",
            "1255/1255 - 8s - loss: 0.2426 - accuracy: 0.5839 - val_loss: 0.2654 - val_accuracy: 0.4869\n",
            "Epoch 48/50\n",
            "1255/1255 - 8s - loss: 0.2425 - accuracy: 0.5839 - val_loss: 0.2629 - val_accuracy: 0.4869\n",
            "Epoch 49/50\n",
            "1255/1255 - 8s - loss: 0.2425 - accuracy: 0.5839 - val_loss: 0.2606 - val_accuracy: 0.4869\n",
            "Epoch 50/50\n",
            "1255/1255 - 8s - loss: 0.2427 - accuracy: 0.5839 - val_loss: 0.2623 - val_accuracy: 0.4869\n",
            "CPU times: user 10min 10s, sys: 1min 36s, total: 11min 47s\n",
            "Wall time: 7min\n"
          ]
        }
      ]
    },
    {
      "cell_type": "code",
      "metadata": {
        "colab": {
          "base_uri": "https://localhost:8080/",
          "height": 312
        },
        "id": "Zkz8z0ZYNlmY",
        "outputId": "0ffc39ea-44fb-4e51-e616-e5ffb91edaf7"
      },
      "source": [
        "eps = np.arange(0,n_epochs)\n",
        "plt.plot(eps, SD_Lstm_model_history.history['loss'])\n",
        "plt.plot(eps, SD_Lstm_model_history.history['val_loss'])\n",
        "plt.xlabel('epochs')\n",
        "plt.ylabel('MSE')\n",
        "plt.title('LSTM - loss plot')\n",
        "plt.legend(['Train', 'validation'])"
      ],
      "execution_count": null,
      "outputs": [
        {
          "output_type": "execute_result",
          "data": {
            "text/plain": [
              "<matplotlib.legend.Legend at 0x7f8e57ef5290>"
            ]
          },
          "metadata": {},
          "execution_count": 85
        },
        {
          "output_type": "display_data",
          "data": {
            "image/png": "[encoded data removed]",
            "text/plain": [
              "<Figure size 432x288 with 1 Axes>"
            ]
          },
          "metadata": {
            "needs_background": "light"
          }
        }
      ]
    },
    {
      "cell_type": "code",
      "metadata": {
        "colab": {
          "base_uri": "https://localhost:8080/",
          "height": 312
        },
        "id": "i-749CeGC7N5",
        "outputId": "49d96104-935d-4e1a-dc76-b557aff0e73c"
      },
      "source": [
        "eps = np.arange(0,n_epochs)\n",
        "plt.plot(eps, SD_Lstm_model_history.history['accuracy'])\n",
        "plt.plot(eps, SD_Lstm_model_history.history['val_accuracy'])\n",
        "plt.xlabel('epochs')\n",
        "plt.ylabel('Accuracy')\n",
        "plt.title('LSTM - Accuracy plot')\n",
        "plt.legend(['Train', 'validation'])"
      ],
      "execution_count": null,
      "outputs": [
        {
          "output_type": "execute_result",
          "data": {
            "text/plain": [
              "<matplotlib.legend.Legend at 0x7f8e57f932d0>"
            ]
          },
          "metadata": {},
          "execution_count": 84
        },
        {
          "output_type": "display_data",
          "data": {
            "image/png": "[encoded data removed]",
            "text/plain": [
              "<Figure size 432x288 with 1 Axes>"
            ]
          },
          "metadata": {
            "needs_background": "light"
          }
        }
      ]
    },
    {
      "cell_type": "code",
      "metadata": {
        "id": "lAKZrgnN2qNH"
      },
      "source": [
        "#Function to recover clean audio from input in  time domain after running through the trained NN\n",
        "def speech_recovery(s_data):\n",
        "  X1 = s_data\n",
        "  X_abs = np.abs(X1)\n",
        "  \n",
        "  X_abs = np.reshape(X_abs, (1,X_abs.shape[0],X_abs.shape[1]))\n",
        "  ff = SD_Lstm_model.predict( X_abs)\n",
        "  #Hadamard product to construct clean test signal\n",
        "  sbar = ff[0]*X1\n",
        "  \n",
        "  #inverse stft to bring the signal to time domain\n",
        "  s = librosa.core.istft(sbar.T, hop_length=512)\n",
        "    \n",
        "  return s"
      ],
      "execution_count": null,
      "outputs": []
    },
    {
      "cell_type": "code",
      "metadata": {
        "id": "T-w_1hjz2wxv"
      },
      "source": [
        "#Function for calculating SNR\n",
        "def snr_cal(at_clean_file, spec_sound_file):\n",
        "  \n",
        "  s = speech_recovery(spec_sound_file)\n",
        "  \n",
        "  min_len = min(len(at_clean_file),len(s))\n",
        "  pred_clipped = s[:min_len]\n",
        "  true_clipped = at_clean_file[:min_len]\n",
        "  \n",
        "  signal = np.dot(true_clipped.T,true_clipped)\n",
        "  subtract = true_clipped - pred_clipped\n",
        "  noise = np.dot(subtract,subtract.T)\n",
        "  \n",
        "  snr = 10*np.log10(signal/noise)\n",
        "  #print('Signal to Noise Ratio for input file:',snr)\n",
        "  return snr"
      ],
      "execution_count": null,
      "outputs": []
    },
    {
      "cell_type": "code",
      "metadata": {
        "colab": {
          "base_uri": "https://localhost:8080/"
        },
        "id": "P8EN0Vs_20hP",
        "outputId": "81f38c5e-07ff-40d5-c272-f942914e9d38"
      },
      "source": [
        "snr_cal(val_clean_lists['at_list'][2], val_sound_lists['spec_list'][2])"
      ],
      "execution_count": null,
      "outputs": [
        {
          "output_type": "execute_result",
          "data": {
            "text/plain": [
              "2.8493493795394897"
            ]
          },
          "metadata": {},
          "execution_count": 31
        }
      ]
    },
    {
      "cell_type": "code",
      "metadata": {
        "colab": {
          "base_uri": "https://localhost:8080/"
        },
        "id": "m-QgqiUL4RmV",
        "outputId": "ef9b1d03-7f30-40a5-ea77-bf603cab4773"
      },
      "source": [
        "snr_vals = []\n",
        "for i in range(1200):\n",
        "  snr = snr_cal(val_clean_lists['at_list'][i], val_sound_lists['spec_list'][i])\n",
        "  #print(snr)\n",
        "  snr_vals.append(snr)\n",
        "  \n",
        "print('Average SNR:',np.mean(snr_vals))"
      ],
      "execution_count": null,
      "outputs": [
        {
          "output_type": "stream",
          "name": "stdout",
          "text": [
            "Average SNR: 2.8097452675923704\n"
          ]
        }
      ]
    },
    {
      "cell_type": "code",
      "metadata": {
        "id": "BEuITT_YB4U6"
      },
      "source": [
        "#Storing the feed forward Test files\n",
        "for i in range(len(test_sound_lists['at_list'])):\n",
        "  test_ff = speech_recovery(test_sound_lists['spec_list'][i])\n",
        "  op_file_name = 'test_s_'+str(i)+'_recons.wav'\n",
        "  sf.write(dirpath+op_file_name, test_ff, 16000)"
      ],
      "execution_count": null,
      "outputs": []
    }
  ]
}